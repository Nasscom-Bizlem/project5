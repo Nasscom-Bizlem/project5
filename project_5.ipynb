{
 "cells": [
  {
   "cell_type": "code",
   "execution_count": 2,
   "metadata": {},
   "outputs": [],
   "source": [
    "import requests\n",
    "import threading\n",
    "import json\n",
    "import pandas as pd\n",
    "import numpy as np\n",
    "import re\n",
    "import bs4\n",
    "import traceback\n",
    "\n",
    "\n",
    "MARGIN_COL = 5\n",
    "VOTE_RATE = 0.3\n",
    "URL_CHAIN = 'http://35.188.227.39:8080/enhancer/chain/scorpiosvchain'\n",
    "LABEL_CHAIN = 'http://fise.iks-project.eu/ontology/entity-label'\n",
    "TYPE_CHAIN = 'http://fise.iks-project.eu/ontology/entity-type'"
   ]
  },
  {
   "cell_type": "code",
   "execution_count": 16,
   "metadata": {},
   "outputs": [],
   "source": [
    "def strip(s):\n",
    "    return ''.join(re.split('[^a-zA-Z0-9]', s.lower()))\n",
    "\n",
    "def get_start_of_word(s):\n",
    "    it = re.finditer('[a-zA-Z0-9,\\./\\+]+', s)\n",
    "    return [ i.start() for i in it ]\n",
    "\n",
    "def split_row(row, pos):\n",
    "    r = []\n",
    "    for i in range(0, len(pos) - 1):\n",
    "        r.append(row[pos[i]:pos[i + 1]])\n",
    "    r.append(row[pos[-1]:])\n",
    "    return r\n",
    "\n",
    "def is_null_row(row):\n",
    "    return row.isnull().sum() == len(row)"
   ]
  },
  {
   "cell_type": "code",
   "execution_count": 3,
   "metadata": {},
   "outputs": [],
   "source": [
    "def request_word(word):\n",
    "    try:\n",
    "        r = requests.post(URL_CHAIN, data=str(word).encode('utf-8'), headers={'Content-Type': 'application/pdf'})\n",
    "        r = r.json()\n",
    "\n",
    "        res = []\n",
    "        track = []\n",
    "        for obj in r:\n",
    "            if LABEL_CHAIN in obj:\n",
    "                v = obj[LABEL_CHAIN][0]['@value']\n",
    "                if strip(v) not in track:\n",
    "                    res.append(v)\n",
    "                    track.append(strip(v))\n",
    "        return res\n",
    "    except Exception as e:\n",
    "        traceback.print_exc()\n",
    "    \n",
    "    \n",
    "def request_header(word, res):\n",
    "    r = request_word(word)\n",
    "    if len(r) > 0:\n",
    "        print(r[0])\n",
    "        res.append(r[0])\n",
    "\n",
    "def request_row(table, index, res):\n",
    "    r = []\n",
    "    row = table.iloc[index].dropna().tolist()\n",
    "    length, width = table.shape\n",
    "    print(len(row), width)\n",
    "    if len(row) / width <= 0.4 and width <= 50:\n",
    "        res[index] = []\n",
    "        return\n",
    "\n",
    "    threads = [ threading.Thread(target=request_header, args=(word, r)) for word in row ]\n",
    "\n",
    "    for thread in threads:\n",
    "        thread.start()\n",
    "\n",
    "    for thread in threads:\n",
    "        thread.join()\n",
    "\n",
    "    res[index] = r"
   ]
  },
  {
   "cell_type": "code",
   "execution_count": 4,
   "metadata": {},
   "outputs": [],
   "source": [
    "def separate_tables(raw_tables, table_margin=2):\n",
    "    count = 0\n",
    "    tables = {}\n",
    "    for table in raw_tables:\n",
    "        height, width = table.shape\n",
    "\n",
    "        irow = 0\n",
    "        istart = 0\n",
    "        iend = 0\n",
    "\n",
    "        while irow < height:\n",
    "            while irow < height and is_null_row(table.iloc[irow]):\n",
    "                irow += 1\n",
    "            istart = irow\n",
    "\n",
    "            while irow < height:\n",
    "                while irow < height and (not is_null_row(table.iloc[irow])):\n",
    "                    irow += 1\n",
    "                iend = irow\n",
    "\n",
    "                while irow < height and is_null_row(table.iloc[irow]):\n",
    "                    irow += 1\n",
    "\n",
    "                if irow - iend < table_margin:\n",
    "                    irow += 1\n",
    "                else: \n",
    "                    iend = irow \n",
    "                    break\n",
    "\n",
    "            if iend - istart >= table_margin:\n",
    "                tables['table_' + str(count)] = table.iloc[istart:irow].copy()\n",
    "                count += 1\n",
    "\n",
    "    return tables"
   ]
  },
  {
   "cell_type": "markdown",
   "metadata": {},
   "source": [
    "# HTML"
   ]
  },
  {
   "cell_type": "code",
   "execution_count": 12,
   "metadata": {},
   "outputs": [],
   "source": [
    "def format_html_table(raw_tables):\n",
    "    for table in raw_tables:\n",
    "        height, width = table.shape\n",
    "        for col in table.columns:\n",
    "            new_col = table[col].apply(lambda x: None if isinstance(x, str) \\\n",
    "                and len(x) > 0 \\\n",
    "                and (ord(x[0]) < 32 or ord(x[0]) > 126)  \\\n",
    "                else x)\n",
    "            table[col] = new_col\n",
    "\n",
    "        for ih in range(height):\n",
    "            current_value = table.iloc[ih, 0]\n",
    "            for iw in range(1, width):\n",
    "                if table.iloc[ih, iw] == current_value:\n",
    "                    table.iloc[ih, iw] = np.nan\n",
    "                else:\n",
    "                    current_value = table.iloc[ih, iw]\n",
    "                    \n",
    "                    \n",
    "def separate_tables(raw_tables, table_margin=2):\n",
    "    count = 0\n",
    "    tables = {}\n",
    "    for table in raw_tables:\n",
    "        height, width = table.shape\n",
    "\n",
    "        irow = 0\n",
    "        istart = 0\n",
    "        iend = 0\n",
    "\n",
    "        while irow < height:\n",
    "            while irow < height and is_null_row(table.iloc[irow]):\n",
    "                irow += 1\n",
    "            istart = irow\n",
    "\n",
    "            while irow < height:\n",
    "                while irow < height and (not is_null_row(table.iloc[irow])):\n",
    "                    irow += 1\n",
    "                iend = irow\n",
    "\n",
    "                while irow < height and is_null_row(table.iloc[irow]):\n",
    "                    irow += 1\n",
    "\n",
    "                if irow - iend < table_margin:\n",
    "                    irow += 1\n",
    "                else: \n",
    "                    iend = irow \n",
    "                    break\n",
    "\n",
    "            if iend - istart >= table_margin:\n",
    "                tables['table_' + str(count)] = table.iloc[istart:irow].copy()\n",
    "                count += 1\n",
    "\n",
    "    return tables\n"
   ]
  },
  {
   "cell_type": "code",
   "execution_count": 26,
   "metadata": {
    "scrolled": true
   },
   "outputs": [
    {
     "ename": "TypeError",
     "evalue": "'NoneType' object is not callable",
     "output_type": "error",
     "traceback": [
      "\u001b[0;31m---------------------------------------------------------------------------\u001b[0m",
      "\u001b[0;31mTypeError\u001b[0m                                 Traceback (most recent call last)",
      "\u001b[0;32m<ipython-input-26-d03bc399f1e2>\u001b[0m in \u001b[0;36m<module>\u001b[0;34m\u001b[0m\n\u001b[1;32m      3\u001b[0m     \u001b[0;32mfor\u001b[0m \u001b[0mt\u001b[0m \u001b[0;32min\u001b[0m \u001b[0msoup\u001b[0m\u001b[0;34m(\u001b[0m\u001b[0;34m[\u001b[0m\u001b[0;34m'script'\u001b[0m\u001b[0;34m,\u001b[0m \u001b[0;34m'style'\u001b[0m\u001b[0;34m,\u001b[0m \u001b[0;34m'meta'\u001b[0m\u001b[0;34m]\u001b[0m\u001b[0;34m)\u001b[0m\u001b[0;34m:\u001b[0m\u001b[0;34m\u001b[0m\u001b[0;34m\u001b[0m\u001b[0m\n\u001b[1;32m      4\u001b[0m         \u001b[0mt\u001b[0m\u001b[0;34m.\u001b[0m\u001b[0mextract\u001b[0m\u001b[0;34m(\u001b[0m\u001b[0;34m)\u001b[0m\u001b[0;34m\u001b[0m\u001b[0;34m\u001b[0m\u001b[0m\n\u001b[0;32m----> 5\u001b[0;31m     \u001b[0mpretty_soup_str\u001b[0m \u001b[0;34m=\u001b[0m \u001b[0msoup\u001b[0m\u001b[0;34m.\u001b[0m\u001b[0mpretty\u001b[0m\u001b[0;34m(\u001b[0m\u001b[0;34m)\u001b[0m\u001b[0;34m\u001b[0m\u001b[0;34m\u001b[0m\u001b[0m\n\u001b[0m\u001b[1;32m      6\u001b[0m     \u001b[0mpretty_soup_str\u001b[0m \u001b[0;34m=\u001b[0m \u001b[0mre\u001b[0m\u001b[0;34m.\u001b[0m\u001b[0msub\u001b[0m\u001b[0;34m(\u001b[0m\u001b[0;34m'\\s+<span'\u001b[0m\u001b[0;34m,\u001b[0m \u001b[0;34m'<span'\u001b[0m\u001b[0;34m,\u001b[0m \u001b[0mpretty_soup_str\u001b[0m\u001b[0;34m)\u001b[0m\u001b[0;34m\u001b[0m\u001b[0;34m\u001b[0m\u001b[0m\n\u001b[1;32m      7\u001b[0m \u001b[0;34m\u001b[0m\u001b[0m\n",
      "\u001b[0;31mTypeError\u001b[0m: 'NoneType' object is not callable"
     ]
    }
   ],
   "source": [
    "with open('../data/p5materials/html/c28.html') as f:\n",
    "    soup = bs4.BeautifulSoup(f, features='lxml')\n",
    "    for t in soup(['script', 'style', 'meta']):\n",
    "        t.extract()\n",
    "    pretty_soup_str = soup.pretty()\n",
    "    pretty_soup_str = re.sub('\\s+<span', '<span', pretty_soup_str)\n",
    "    \n",
    "    \n",
    "raw_tables = pd.read_html(pretty_soup_str)\n",
    "format_html_table(raw_tables)\n",
    "tables = separate_tables(raw_tables, table_margin=1)\n",
    "\n",
    "tables['table_1']"
   ]
  },
  {
   "cell_type": "code",
   "execution_count": 29,
   "metadata": {},
   "outputs": [
    {
     "data": {
      "text/plain": [
       "['SSY_CLEAN_LR1_LIST_BASIS_SIKKA(07TH_NOV_20TH_DEC)',\n",
       " \"SIMPSON SPENCE YOUNG(SINGAPORE)================================= 07TH NOVEMBER – 20TH DECEMBER CLEAN LR1 LIST BASIS SIKKA--------------------------- VESSEL              SIKKA DWT CBM LOA YR PORT           OPEN     FLEET        LAST CGOS                  COMMENT              ------------------- ----- --- --- --- -- -------------- -------- ------------ -------------------------- ---------------------BW RHINE            08/11 76  80  229 08 KARACHI        07/11    MENA         UMS/GO/UMS/UMS             SUB SLDENERGY CENTAUR      09/11 74  80  228 08 ANYER          31/10    SHELL        NAP/UMS/NAP/UMS            SUB SLD FUJ11NOVFOTINI LADY         10/11 71  81  228 04 FUJAIRAH       07/11    ARGYLL       NAP/GO/UMS/JET             SUBWALLEYE             10/11 70  82  228 03 FUJAIRAH       07/11    PRIMEMARINE  NAP/GO+JET/UMS/NAP         SUBENERGY CENTURION    10/11 74  78  228 08 FUJAIRAH       07/11    SHELL        UMS/NAP/NAP/NAP            SUBGEM NO. 3           10/11 79  86  219 17 JEBEL ALI      07/11    KOCH         UMS/NAP/ULSD/JET           PPT CHANGE IN ORDERS-------------------------------------------------------------------------------GULF COAST          11/11 74  82  228 05 RAS TANURA     07/11    GEM          UMS/UMS/UMS                SUBAMALIA              11/11 73  80  229 06 FUJAIRAH       08/11    NAVIG8       NAP/JET/JET/UMS            SLD FUJ8NOVPACIFIC MARTINA     11/11 74  84  219 18 KARACHI        10/11    SHELL        UMS/NAP/UMS                HLD IMO3STI EXPEDITE        12/11 74  84  219 16 SIKKA          12/11    SCORPIO      NAP/NAP/JET/UMS            IN BLSFULHAM ROAD         13/11 74  80  228 13 GALLE          09/11    ZODIAC       NAP/EX DDSWARNA KAVERI       14/11 73  80  228 10 SINGAPORE      05/11    SCORPIO      NAP/NAP/JET/ULSD           SLDTHEODOSIA           14/11 70  80  228 04 GALLE          10/11    ST SHIPPING  UMS/NAP/UMS/JET            IN BLSEPICURUS            15/11 79  86  219 17 JEDDAH         07/11    ALBERTA      UMS/UMS/ULSD/JET           SUBRIVER SHINER        15/11 73  81  228 05 MOMBASA        07/11    PRIMEMARINE  JET/NAP/CCOND/NAP MARILEE             16/11 74  81  229 06 RAS TANURA     12/11    STRAITS TANK GO/UMS/GO                  SUBGULF HORIZON        16/11 74  82  228 05 JEBEL ALI      13/11    ENOC         UMS/JET/UMS/GOMARITINA            16/11 74  82  228 06 FUJAIRAH       13/11    STRAITS TANK UMS/NAP/NAP/               IF PROJGULF CORAL          16/11 74  82  228 09 SINGAPORE      07/11    BP                                      SUB SLD SIKKA16/NOVBW CLYDE            16/11 73  80  229 04 KARACHI        15/11    BW           UMS/UMS/UMS/NAPN. MARS             16/11 74  82  228 04 SINGAPORE      07/11    STRAITS TANK CPP/LCO+GO/JET/JET/REF     IFSTI PRESTIGE        17/11 74  86  220 16 MAILIAO        01/11    SCORPIO      NAP/UMS/NAP/JET            SLDDONG TING HU        17/11 74  81  229 07 ANYER          08/11    OTC                                     IF KEEN NORTHFLAGSHIP TULIP      17/11 74  80  228 13 SINGAPORE      08/11    PRIMEMARINE  UMS/NAP/GO/UMS             IF PROJALIGOTE             18/11 74  81  229 10 JEDDAH         10/11    ROXANA SHIP  GO/GO/UMS/UMS/GO           SUBNEW CHAMPION        18/11 73  81  229 05 HONG KONG      04/11    STRAITS TANK JET/NAP/GO                 SLD SP09/NOV AG21/NOVKINGS ROAD          18/11 74  80  228 12 GIBRALTAR      01/11    ZODIAC                                  SUBSERENGETI           18/11 74  80  228 09 JEDDAH         10/11    DYNACOM                                 SUBANALIPSI LADY       19/11 71  81  228 05 DJIBOUTI       13/11    ARGYLL       GO+JET/JET/UMSSTENA PREMIUM       20/11 65  68  183 11 DURBAN         07/11    STENA BULK   GO/GO/VEG                  FULL FOSFA-------------------------------------------------------------------------------SELINI              21/11 74  78  228 09 SINGAPORE      12/11    TSAKOS       GO/NAP/NAP/FPMC P GLORY        21/11 74  80  228 09 SINGAPORE      12/11    STRAITS TANK UMS/NAP/JET/JET            IF PROJBW ZAMBESI          22/11 76  80  229 10 KHOR AL ZUBAIR 17-19/11 MENAABBEY ROAD          22/11 74  80  228 13 HONG KONG      08/11    ZODIAC       GO/ULSDALPINE PERSEFONE    22/11 74  78  228 08 UAE            19/11    ST SHIPPING  UMS/ULSD/UMS/EX DD/NAP     IFRED EAGLE           22/11 74  81  228 11 MAILIAO        06/11    ADHART       NAP/NAP/UMS(MTBE OXY FREE)NAVE CIELO          23/11 74  80  228 07 MAPUTO         11/11    NAVIG8       GO/UMSMARGARITA           23/11 74  80  228 08 SINGAPORE      14/11    DYNACOM      CPP/GO/NAP/NAPBW THAMES           23/11 76  80  229 08 JEBEL ALI      20/11    BW           JET/UMS/UMS/UMS            IF PROJALTESSE             23/11 74  81  229 10 FOS            07/11    ROXANA SHIP  ULSD/ALK/CCONDSTI EXCELSIOR       23/11 74  84  219 16 HONG KONG      09/11    SCORPIO      JET/UMS/ULSD+UMS+NAPLAKE STURGEON       23/11 74  82  228 07 FUJAIRAH       20/11    ENOC         UMS/UMS/NAP/ALK+UMSBW KRONBORG         24/11 73  81  229 07 NANSHA         10/11    BW           LCO/JET/NAP                SUB OOSHAFNIA AFRICA       24/11 74  80  228 10 ALGECIRAS      07/11    STRAITS TANK GO/NAP/NAP                 SUBBW COLUMBIA         24/11 76  80  229 06 NANSHA         10/11    BW           COND/JET/JET/ULSDCIELO ROSSO         24/11 74  85  228 18 FIUMICINO      09/11    TRAFIGURA    CPP/CPP/NB                 IN BLSTNORSTAR INTEGRITY   25/11 74  81  229 06 MOMBASA        17/11    STRAITS TANKELAN VITAL          25/11 71  80  228 03 HONG KONG      11/11    PRODUCT SHIP GO/ULSD/JET/NAPETERNAL DILIGENCE   25/11 74  82  228 06 FIUMICINO      10/11    SHELL        JET/ULSD/JET/NAPMARIANN             25/11 74  81  229 08 LEBANON        14/11    STRAITS TANK UMS/GO/JET/JETBW KALLANG          25/11 74  82  219 17 SINGAPORE      16/11    BW           ULSD/COND/ULSD             SLD FOCNAVIG8 HONOR        25/11 74  80  228 11 TOKUYAMA       07/11    NAVIG8       NAP/NAP                    SUBNORD LAVENDER       25/11 74  80  228 17 SINGAPORE      16/11    STRAITS TANK CPP/NAP/ULSD+JET/NAP       IF PROJ CONSTANTINOS        26/11 73  81  229 09 SINGAPORE      17/11    DYNACOM      UMS/UMS/GO/JET             IF PROJSPRUCE 2            26/11 73  81  229 08 SINGAPORE      17/11    HELLENIC TA  UMS/COND/NAP/GO            IF PROJ GREGALE SHPGFLAGSHIP VIOLET     26/11 74  82  228 11 HONG KONG      12/11    PRIMEMARINE  GO/UMS/CCOND/NAPNORSTAR INVICTUS    26/11 73  81  229 07 AQABA          17/11    STRAITS TANK UMS/ULSD/ULSDSCF PIONEER         26/11 74  82  228 11 SINGAPORE      17/11    ST SHIPPING  UMS+NAPSTI EXECUTIVE       27/11 74  84  219 16 DAESAN         09/11    SCORPIO      NAP/JET/NAP/UMSSCF PLYMOUTH        27/11 74  82  228 11 TAIWAN         10/11    ST SHIPPING  GO/UMS/GO/ULSDNORSTAR INTREPID    27/11 74  81  229 06 MAILIAO        11/11    STRAITS TANK NAP/NAP/GO/UMSBAI LU ZUO          27/11 75  80  229 11 MAILIAO        11/11    COSCO        NAP/NAP/UMS                DANIEL I/CSHAN YING ZUO       27/11 75  80  229 10 ANYER          18/11    COSCO        NAP/GO/UMS                 DANIEL I/CHAMBURG STAR        27/11 73  80  229 05 HUIZHOU        13/11    SCORPIO      NAP/NAP/UMS/UMSKITION M            27/11 74  81  228 06 YOKKAICHI      08/11    SCORPIO      NAP/NAP/GO/NAPCIELO BIANCO        27/11 74  85  228 17 NEW YORK       30/10    TRAFIGURA    ALK                        SUBSFREIGHT MARGIE      29/11 70  81  228 04 SINGAPORE      20/11    STRAITS TANK COND/NAP/UMS               IF PROJPETALI LADY         29/11 71  81  228 04 LE HAVRE       08/11    CLEARLAKE    JET/UMS/EX DD/UMS          SUBCAPE TAMPA          29/11 73  81  229 09 YOSU           11/11    UPT          NAP/NAP/COND/NAPTORM SIGNE          29/11 72  78  228 05 SINGAPORE      20/11    TORM         GO/GO/ULSD/NAPNORD LARKSPUR       30/11 74  80  228 17 CHITA          11/11    STRAITS TANK NAP/UMS/NAP                SUBSTI EXCELLENCE      30/11 74  84  219 16 MERAK          20/11    SCORPIO      UMS/CPP/UMSKING DOUGLAS        30/11 73  81  229 08 MILFORD HAVEN  09/11    SCORPIO      JET/UMS/GO+UMS/EX DD       SUB-------------------------------------------------------------------------------PO YANG HU          01/12 74  81  229 07 SRIRACHA       19/11    OTC          NAP                        IF PROJCAPE TAFT           01/12 73  81  229 08 PORTUGAL       12/11    UPT          ULSD+NAP/ALK/UMS/UMS       UNC, EX DDLIAN BAI HU         01/12 72  83  220 18 SINGAPORE      22/11    COSCO        NAP/ULSD/NAP/UMS           GETAO I/CCORDULA JACOB       02/12 75  80  229 12 DAKAR          10/11    NAVIG8       NAP/UMS/ULSDCIELO DI ROTTERDAM  02/12 74  85  228 18 ULSAN          14/11    TRAFIGURAPLOUTOS             03/12 73  81  229 06 ARA            11/11    STRAITS TANK UMS/JET/GO                 IN BLST EX LAGOSARAMON              05/12 74  81  229 10 ARATU          08/11    ROXANA SHIP  NAPFLAGSHIP ORCHID     05/12 74  82  228 12 DAESAN         17/11    PRIMEMARINE  CCOND/ULSD+NAP/ALKNAVE CASSIOPEIA     05/12 74  80  228 12 ULSAN          17/11    NAVIG8       NAPEVRIDIKI            05/12 73  81  229 08 SAO LUIS       07/11    STRAITS TANK UMS/GO/GO/QI LIN ZUO          05/12 75  80  229 09 YOKKAICHI      16/11    COSCO        NAP/NAP/LCO/UMS            DANIEL I/CBW AMAZON           05/12 76  80  229 06 FIUMICINO      20/11    BW           JET+GO/ULSD/JET/GO+UMS     IFGULF CRYSTAL        05/12 74  82  228 09 KHOR AL ZUBAIR 30/11    GEM          UMS/UMS/JET/JETKONG QUE ZUO        05/12 75  80  229 11 SINGAPORE      26/11    COSCO        GO/NAP/UMS+GO              IF PROJ VICKY I/C GULF CASTLE         06/12 74  82  228 09 ISLE OF GRAIN  14/11    BP           JET/ULSD/EX DDUACC IBN AL HAITHAM 06/12 73  81  229 09 SINGAPORE      27/11    STRAITS TANK UMS/CLEAN COND/JET/UMS     IF PROJSTI PROVIDENCE      06/12 74  82  220 16 ONSAN          18/11    SCORPIO      NAP/NAP/NAPSTARLING            06/12 74  81  228 16 DAESAN         18-20/11 STRAITS TANKJAG AABHA           06/12 74  80  228 08 ZHOUSHAN       20/11    GREAT EASTER XDD/UMS/NAP/HSD            XDDARIEL               06/12 71  80  228 03 MIZUSHIMA      18/11    PRODUCT SHIP NAP/UMS/UMSARISTARCHOS         07/12 79  86  219 17 NEW YORK       09/11    ALBERTA      JET/NAP/UMS/GO+JET         UNCSCF PRUDENCIA       08/12 74  82  228 12 GULEI          23/11    ST SHIPPING  COND/JET/ULSD/ULSD+UMSYAMILAH-III         08/12 74  82  228 11 PASIR GUDANG   29/11    ADNATCO      NAP/NAPBW LENA             09/12 76  80  229 07 SUAPE          12/11    BW           JET/ULSD/UMS/UMS/GO/GO     NAP CLEANLA BOHEME           10/12 73  80  228 07 ARA            18/11    PRODUCT SHIP UMS/UMS/GO                 IN BLST EX NYESTIA               10/12 73  81  229 07 LOME           16/11    STRAITS TANK CPP/UMS/NAP/UMS            UNC------------------------------------------------------------------------------WEMBLEY             11/12 74  81  229 00 ARA            19/11    UNION MARIT  GASOLINE/DMA+JET A1+GO/GO  IN BLST EX LOMETILL JACOB          11/12 75  80  229 12 PARANAGUA      14/11    NAVIG8       UMS/JET/UMSMEZAIRA'A           14/12 74  82  228 11 HALDIA         06/12    ADNATCO      NAP/NAPTORM ISMINI         14/12 74  82  228 04 SAO LUIS       16/11    TORM         UMS/UMS/GOTORM SOFIA          15/12 72  78  228 05 SAVANNAH       15/11    TORM         JET/UMS/UMSSALAMINA            15/12 74  78  228 09 YOKOHAMA       26/11    TSAKOS       GO/NAP/CCONDJAG AANCHAL         15/12 74  80  228 08 CHIBA          26/11    GREAT EASTER NAP/UMS/NAP/HSD            S/V NORTH ASIA LIAN SONG HU        16/12 72  82  220 17 SOUTH KOREA    28/11    COSCO        NAP/JET/UMS                GETAO I/CKONSTANTIN JACOB    16/12 76  80  229 11 ST CROIX       16/11    NAVIG8       ALK/NAP/ULSD/NAPSTI EXPERIENCE      18/12 74  84  219 16 TRAMANDAI      21/11    SCORPIO      CPP/CCOND/JET/UMS/UMS      LC NAPTORM SARA           19/12 72  78  228 03 GUANGZHOU      05/12    TORM         XDD/NAP/ULSD/NAP           XDDALPINE PENELOPE     20/12 74  78  229 08 JAPAN          01/12    ST SHIPPING  UMS/GO/NAP/EX DD           IF PROJ------------------------------------------------------------------------------JING YU ZUO         21/12 75  80  229 10 JAPAN          02/12    COSCO        NAP/GO/NAP/UMS             IF PROJ DANIEL I/CLIAN GUI HU         21/12 71  82  220 18 DALIAN         03/12    SHELL        NB                         NBGULF COBALT         23/12 74  82  228 09 BOTANY BAY     02/12    GEM          UMS+ULSD/NAP/GO/UMS/ULSDFLAGSHIP PRIVET     27/12 74  82  228 11 BRAZIL         30/11    PRIMEMARINE  CCOND/ALK/CCOND            IF PROJMORNING SWAN        27/12 79  86  219 14 YOKOHAMA       08/12    ASAHI        NAP/NAP/NAP                IF PROJ   KIND REGARDS CAPT VIJAY WADHWA ( GENERAL MANAGER )MOBILE:(+65)9777 6488ICE   : VWADHWA MR MARCUS NEOMOBILE: (+65)9655 0519ICE   :  MNEO MR CHRIS XUMOBILE: (+65)9827 8077ICE   : CXU18 MR EDWARD DICKENSMOBILE: (+65)9825 6415ICE   : EDICKENS MR MING YANG LIMOBILE: (+65)9424 7360ICE   : MLI10 MR JAKE TANMOBILE: (+65)9841 6604ICE   : JTAN32  SIMPSON SPENCE YOUNG(SINGAPORE)50 RAFFLES PLACE #14-01/02SINGAPORE LAND TOWERSINGAPORE 048623 TEL:   (+65) 6536 7988EMAIL: SSYTANKERS@SSYSIN.COM.SG\",\n",
       " 'If you would like to unsubscribe from this communication please reply to this email with the word \"Unsubscribe\" added to the contents of the subject line.',\n",
       " 'You can view the Simpson Spence Young Privacy Policy at http://www.ssyonline.com/privacy-policy/',\n",
       " 'Part of the SIMPSON | SPENCE | YOUNG group of companies',\n",
       " 'Details of all SIMPSON | SPENCE | YOUNG group companies can be found at http://www.ssyonline.com/registered-offices',\n",
       " 'The SIMPSON | SPENCE | YOUNG policy on international sanctions can be found at http://www.ssyonline.com/disclaimer',\n",
       " '',\n",
       " '',\n",
       " '']"
      ]
     },
     "execution_count": 29,
     "metadata": {},
     "output_type": "execute_result"
    }
   ],
   "source": [
    "arr = soup.text.replace('\\xa0', ' ').split('\\n')\n",
    "arr\n",
    "\n",
    "pretty_soup = "
   ]
  },
  {
   "cell_type": "code",
   "execution_count": null,
   "metadata": {},
   "outputs": [],
   "source": [
    "OVERLAP_URL = 'http://35.186.166.22:8082/portal/servlet/service/Poheader.poi'\n",
    "\n",
    "def overlap(word_pos, header_item_pos):\n",
    "    try:\n",
    "        data = json.dumps({\n",
    "            'user_name': 'carrotrule_xyz.com',\n",
    "            'project_name': 'DataExtractionPO-2',\n",
    "            'Rule_Engine': 'RuleData-2',\n",
    "            'RawJson': {\n",
    "                'wX1': word_pos[0],\n",
    "                'wX2': word_pos[1],\n",
    "                'hX1': header_item_pos[0],\n",
    "                'hX2': header_item_pos[1],\n",
    "            }\n",
    "        })\n",
    "\n",
    "        r = requests.post(OVERLAP_URL, data=data)\n",
    "        print(json.dumps(data, indent=2))\n",
    "        print('hello', r.json())\n",
    "        return None\n",
    "        return r.json()['hw1o'] == 'OVERLAP'\n",
    "    except Exception as e:\n",
    "        traceback.print_exc()\n",
    "        return word_pos[1] >= header_item_pos[0] and word_pos[0] <= header_item_pos[1]\n",
    "    \n",
    "r = overlap((4, 6), (7, 8))\n",
    "print(r)"
   ]
  },
  {
   "cell_type": "code",
   "execution_count": 19,
   "metadata": {},
   "outputs": [
    {
     "data": {
      "text/plain": [
       "[]"
      ]
     },
     "execution_count": 19,
     "metadata": {},
     "output_type": "execute_result"
    }
   ],
   "source": [
    "request_word('SPORE/MSIA/INDO/THAI')"
   ]
  }
 ],
 "metadata": {
  "kernelspec": {
   "display_name": "fup-info-extraction",
   "language": "python",
   "name": "fup-info-extraction"
  },
  "language_info": {
   "codemirror_mode": {
    "name": "ipython",
    "version": 3
   },
   "file_extension": ".py",
   "mimetype": "text/x-python",
   "name": "python",
   "nbconvert_exporter": "python",
   "pygments_lexer": "ipython3",
   "version": "3.7.3"
  }
 },
 "nbformat": 4,
 "nbformat_minor": 2
}
